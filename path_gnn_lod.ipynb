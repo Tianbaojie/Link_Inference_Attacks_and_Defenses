{
 "cells": [
  {
   "cell_type": "code",
   "execution_count": 1,
   "metadata": {},
   "outputs": [],
   "source": [
    "import scipy.sparse as sp\n",
    "from dgl.nn import HeteroEmbedding\n",
    "import itertools\n",
    "import torch.distributed as dist\n",
    "from torch import Tensor\n",
    "import numpy as np\n",
    "import torch\n",
    "import queue\n",
    "import random\n",
    "import pandas as pd\n",
    "import pickle\n",
    "import dgl.nn as dglnn\n",
    "import dgl\n",
    "from torch.nn.parallel import DistributedDataParallel\n",
    "from torch.optim import SparseAdam\n",
    "from torch.utils.data import DataLoader\n",
    "from torch import nn\n",
    "from torch.nn import init\n",
    "import torch.nn.functional as F\n",
    "import tqdm\n",
    "from torch.nn.parallel import DistributedDataParallel\n",
    "from dgl.base import NID\n",
    "from dgl.convert import to_homogeneous, to_heterogeneous\n",
    "from dgl.random import choice\n",
    "from dgl.sampling import random_walk\n",
    "import time\n",
    "from dgl.data.utils import save_graphs\n",
    "from dataclasses import dataclass\n",
    "import datetime\n",
    "from sklearn.model_selection import train_test_split\n",
    "import warnings\n",
    "import dgl.nn as dglnn\n",
    "import os\n",
    "import gc\n",
    "os.environ['DGLBACKEND'] = 'pytorch'\n",
    "warnings.filterwarnings('ignore')\n",
    "\n",
    "\n",
    "def readFile(filePath):\n",
    "    with open(f\"../../dataset/zhihu_publish/{filePath}.pkl\", 'rb') as file:\n",
    "        return pickle.loads(file.read())\n"
   ]
  },
  {
   "cell_type": "code",
   "execution_count": 2,
   "metadata": {},
   "outputs": [],
   "source": [
    "Answers_dev=readFile('Answers_dev')\n",
    "Answers_test=readFile('Answers_test')\n",
    "Questions=readFile('Questions')\n",
    "Users=readFile('Users')\n",
    "Topics=readFile('Topics')"
   ]
  },
  {
   "cell_type": "code",
   "execution_count": 3,
   "metadata": {},
   "outputs": [],
   "source": [
    "Topics=readFile('Topics')"
   ]
  },
  {
   "cell_type": "code",
   "execution_count": 5,
   "metadata": {},
   "outputs": [],
   "source": [
    "user_following_user=[]\n",
    "for u,f in zip(Users.uid,Users.followings):\n",
    "    for v in f:\n",
    "        user_following_user.append([u,v])\n",
    "user_follower_user=[]\n",
    "for u,f in zip(Users.uid,Users.followers):\n",
    "    for v in f:\n",
    "        user_follower_user.append([u,v])\n",
    "user_answer_write=[]\n",
    "for u,f in zip(Users.uid,Users.writtenAnswers):\n",
    "    try:\n",
    "        for v in f:\n",
    "            user_answer_write.append([u,v])\n",
    "    except:\n",
    "        pass\n",
    "user_following_topic=[]\n",
    "for u,f in zip(Users.uid,Users.followedTopics):\n",
    "    try:\n",
    "        for v in f:\n",
    "            user_following_topic.append([u,v])\n",
    "    except:\n",
    "        pass\n",
    "user_ask_question=[]\n",
    "for u,f in zip(Users.uid,Users.askedQuestions):\n",
    "    try:\n",
    "        for v in f:\n",
    "            user_ask_question.append([u,v])\n",
    "    except:\n",
    "        pass\n",
    "user_follow_question=[]\n",
    "for u,f in zip(Users.uid,Users.followedQuestions):\n",
    "    try:\n",
    "        for v in f:\n",
    "            user_follow_question.append([u,v])\n",
    "    except:\n",
    "        pass\n",
    "user_commment_answer=[]\n",
    "for u,f in zip(Users.uid,Users.commentedAnswers):\n",
    "    try:\n",
    "        for v in f:\n",
    "            user_commment_answer.append([u,v])\n",
    "    except:\n",
    "        pass\n",
    "question_belongto_topic=[]\n",
    "for u,f in zip(Questions.questionId,Questions.questionTopics):\n",
    "    try:\n",
    "        for v in f:\n",
    "            question_belongto_topic.append([u,v])\n",
    "    except:\n",
    "        pass\n",
    "question_have_answer=[]\n",
    "for u,f in zip(Questions.questionId,Questions.answers):\n",
    "    try:\n",
    "        for v in f:\n",
    "            question_have_answer.append([u,v])\n",
    "    except:\n",
    "        pass"
   ]
  },
  {
   "cell_type": "code",
   "execution_count": 6,
   "metadata": {},
   "outputs": [],
   "source": [
    "data={\n",
    "('user', 'write', 'answer') :(torch.tensor(user_answer_write)[:,0],torch.tensor(user_answer_write)[:,1]),\n",
    "('answer', 're_write', 'user') :(torch.tensor(user_answer_write)[:,1],torch.tensor(user_answer_write)[:,0]),\n",
    "(\"user\", \"user_follower_user\", \"user\"):(torch.tensor(user_follower_user)[:,0],torch.tensor(user_follower_user)[:,1]),\n",
    "(\"user\", \"user_following_user\", \"user\"):(torch.tensor(user_following_user)[:,0],torch.tensor(user_following_user)[:,1]),\n",
    "(\"user\", \"user_following_topic\", \"topic\"):(torch.tensor(user_following_topic)[:,0],torch.tensor(user_following_topic)[:,1]),\n",
    "(\"topic\", \"re_user_following_topic\", \"user\"):(torch.tensor(user_following_topic)[:,1],torch.tensor(user_following_topic)[:,0]),\n",
    "(\"user\", \"user_following_question\", \"question\"):(torch.tensor(user_follow_question)[:,0],torch.tensor(user_follow_question)[:,1]),\n",
    "(\"question\", \"re_user_following_question\", \"user\"):(torch.tensor(user_follow_question)[:,1],torch.tensor(user_follow_question)[:,0]),\n",
    "(\"user\", \"ask\", \"question\"):(torch.tensor(user_ask_question)[:,0],torch.tensor(user_ask_question)[:,1]),\n",
    "(\"question\", \"re_ask\", \"user\"):(torch.tensor(user_ask_question)[:,1],torch.tensor(user_ask_question)[:,0]),\n",
    "(\"question\", \"belongto\", \"topic\"):(torch.tensor(question_belongto_topic)[:,0],torch.tensor(question_belongto_topic)[:,1]),\n",
    "(\"topic\", \"re_belongto\", \"question\"):(torch.tensor(question_belongto_topic)[:,1],torch.tensor(question_belongto_topic)[:,0]),\n",
    "(\"question\", \"have\", \"answer\"):(torch.tensor(question_have_answer)[:,0],torch.tensor(question_have_answer)[:,1]),\n",
    "(\"answer\", \"re_have\", \"question\"):(torch.tensor(question_have_answer)[:,1],torch.tensor(question_have_answer)[:,0])\n",
    "}\n",
    "g=dgl.heterograph(data)"
   ]
  },
  {
   "cell_type": "code",
   "execution_count": 7,
   "metadata": {},
   "outputs": [
    {
     "data": {
      "text/plain": [
       "Graph(num_nodes={'answer': 460857, 'question': 597982, 'topic': 92261, 'user': 23552},\n",
       "      num_edges={('answer', 're_have', 'question'): 460857, ('answer', 're_write', 'user'): 440857, ('question', 'belongto', 'topic'): 2156267, ('question', 'have', 'answer'): 460857, ('question', 're_ask', 'user'): 36947, ('question', 're_user_following_question', 'user'): 937205, ('topic', 're_belongto', 'question'): 2156267, ('topic', 're_user_following_topic', 'user'): 344405, ('user', 'ask', 'question'): 36947, ('user', 'user_follower_user', 'user'): 29029, ('user', 'user_following_question', 'question'): 937205, ('user', 'user_following_topic', 'topic'): 344405, ('user', 'user_following_user', 'user'): 128923, ('user', 'write', 'answer'): 440857},\n",
       "      metagraph=[('answer', 'question', 're_have'), ('answer', 'user', 're_write'), ('question', 'topic', 'belongto'), ('question', 'answer', 'have'), ('question', 'user', 're_ask'), ('question', 'user', 're_user_following_question'), ('user', 'question', 'ask'), ('user', 'question', 'user_following_question'), ('user', 'user', 'user_follower_user'), ('user', 'user', 'user_following_user'), ('user', 'topic', 'user_following_topic'), ('user', 'answer', 'write'), ('topic', 'question', 're_belongto'), ('topic', 'user', 're_user_following_topic')])"
      ]
     },
     "execution_count": 7,
     "metadata": {},
     "output_type": "execute_result"
    }
   ],
   "source": [
    "g"
   ]
  },
  {
   "cell_type": "code",
   "execution_count": 8,
   "metadata": {},
   "outputs": [],
   "source": [
    "meta_paths_one=[]\n",
    "for u,topics in zip(Users.uid,Users.followedTopics):\n",
    "    try:\n",
    "        meta_paths_one+=[[u,t] for t in topics]\n",
    "    except:\n",
    "        pass"
   ]
  },
  {
   "cell_type": "code",
   "execution_count": 9,
   "metadata": {},
   "outputs": [],
   "source": [
    "meta_paths_one=pd.DataFrame(meta_paths_one,columns=['uid','topic'])\n",
    "meta_paths_one.to_csv('meta_paths_one_zhihu.csv',index=False)"
   ]
  },
  {
   "cell_type": "code",
   "execution_count": 10,
   "metadata": {},
   "outputs": [],
   "source": [
    "meta_paths_two=[]\n",
    "for u,questions in zip(Users.uid,Users.followedQuestions):\n",
    "    try:\n",
    "        for questionId in questions:\n",
    "            try:\n",
    "                meta_paths_two+=[[u,t] for t in Questions[Questions['questionId']==questionId].questionTopics.values[0]]\n",
    "            except:\n",
    "                pass\n",
    "    except:\n",
    "        pass"
   ]
  },
  {
   "cell_type": "code",
   "execution_count": 11,
   "metadata": {},
   "outputs": [],
   "source": [
    "meta_paths_two=pd.DataFrame(meta_paths_two,columns=['uid','topic'])\n",
    "meta_paths_two.to_csv('meta_paths_two_zhihu.csv',index=False)"
   ]
  },
  {
   "cell_type": "code",
   "execution_count": 12,
   "metadata": {},
   "outputs": [],
   "source": [
    "meta_paths_three=[]\n",
    "for u,questions in zip(Users.uid,Users.askedQuestions):\n",
    "    try:\n",
    "        for questionId in questions:\n",
    "            try:\n",
    "                meta_paths_three+=[[u,t] for t in Questions[Questions['questionId']==questionId].questionTopics.values[0]]\n",
    "            except:\n",
    "                pass\n",
    "    except:\n",
    "        pass"
   ]
  },
  {
   "cell_type": "code",
   "execution_count": 13,
   "metadata": {},
   "outputs": [],
   "source": [
    "meta_paths_three=pd.DataFrame(meta_paths_three,columns=['uid','topic'])\n",
    "meta_paths_three.to_csv('meta_paths_three_zhihu.csv',index=False)"
   ]
  },
  {
   "cell_type": "code",
   "execution_count": 14,
   "metadata": {},
   "outputs": [],
   "source": [
    "save_graphs('./graph_without_feature_zhihu',[g])"
   ]
  },
  {
   "cell_type": "code",
   "execution_count": 40,
   "metadata": {},
   "outputs": [],
   "source": [
    "from dgl.data.utils import load_graphs\n",
    "glist, label_dict = load_graphs('./graph_without_feature_zhihu')\n",
    "g=glist[0]"
   ]
  },
  {
   "cell_type": "code",
   "execution_count": 5,
   "metadata": {},
   "outputs": [],
   "source": [
    "def compute_loss(pos_score, neg_score):\n",
    "    # 间隔损失\n",
    "    n_edges = pos_score.shape[0]\n",
    "    return (1 - pos_score.unsqueeze(1) + neg_score.view(n_edges, -1)).clamp(min=0).mean()\n",
    "class StochasticTwoLayerRGCN(nn.Module):\n",
    "    def __init__(self, in_feat, hidden_feat, out_feat, rel_names):\n",
    "        super().__init__()\n",
    "        self.conv1 = dglnn.HeteroGraphConv({\n",
    "                rel : dglnn.GraphConv(in_feat, hidden_feat, norm='right')\n",
    "                for rel in rel_names\n",
    "            })\n",
    "        self.conv2 = dglnn.HeteroGraphConv({\n",
    "                rel : dglnn.GraphConv(hidden_feat, out_feat, norm='right')\n",
    "                for rel in rel_names\n",
    "            })\n",
    "\n",
    "    def forward(self, blocks, x):\n",
    "        x = self.conv1(blocks[0], x)\n",
    "        x = self.conv2(blocks[1], x)\n",
    "        return x\n",
    "class ScorePredictor(nn.Module):\n",
    "    def forward(self, edge_subgraph, x):\n",
    "        with edge_subgraph.local_scope():\n",
    "            edge_subgraph.ndata['x'] = x\n",
    "            for etype in edge_subgraph.canonical_etypes:\n",
    "                edge_subgraph.apply_edges(\n",
    "                    dgl.function.u_dot_v('x', 'x', 'score'), etype=etype)\n",
    "            return edge_subgraph.edata['score']\n",
    "\n",
    "class Model(nn.Module):\n",
    "    def __init__(self,embeddingDict, in_features, hidden_features, out_features, num_classes,\n",
    "                 etypes):\n",
    "        super().__init__()\n",
    "        self.embeddings=HeteroEmbedding(embeddingDict,128)\n",
    "        self.rgcn = StochasticTwoLayerRGCN(\n",
    "            in_features, hidden_features, out_features, etypes)\n",
    "        self.pred = ScorePredictor()\n",
    "\n",
    "    def forward(self, positive_graph, negative_graph, blocks, x):\n",
    "        x=self.embeddings(x)\n",
    "        x = self.rgcn(blocks, x)\n",
    "        pos_score = self.pred(positive_graph, x)\n",
    "        neg_score = self.pred(negative_graph, x)\n",
    "        return pos_score, neg_score"
   ]
  },
  {
   "cell_type": "code",
   "execution_count": 6,
   "metadata": {},
   "outputs": [],
   "source": [
    "embeddingDict={nodeType:g.num_nodes(nodeType) for nodeType in g.ntypes}"
   ]
  },
  {
   "cell_type": "code",
   "execution_count": 7,
   "metadata": {},
   "outputs": [],
   "source": [
    "Questions=readFile('Questions')"
   ]
  },
  {
   "cell_type": "code",
   "execution_count": 8,
   "metadata": {},
   "outputs": [],
   "source": [
    "Users=readFile('Users')"
   ]
  },
  {
   "cell_type": "code",
   "execution_count": 9,
   "metadata": {},
   "outputs": [],
   "source": [
    "qid2inedx={q:i for q,i in zip(Questions.questionId.values,Questions.index)}\n",
    "uid2inedx={q:i for q,i in zip(Users.uid.values,Users.index)}"
   ]
  },
  {
   "cell_type": "code",
   "execution_count": 10,
   "metadata": {},
   "outputs": [],
   "source": [
    "meta_paths_one=pd.read_csv('meta_paths_one_zhihu.csv')\n",
    "meta_paths_two=pd.read_csv('meta_paths_two_zhihu.csv')\n",
    "meta_paths_three=pd.read_csv('meta_paths_three_zhihu.csv')"
   ]
  },
  {
   "cell_type": "code",
   "execution_count": 11,
   "metadata": {},
   "outputs": [],
   "source": [
    "meta_paths=pd.concat([meta_paths_one,meta_paths_two,meta_paths_three])"
   ]
  },
  {
   "cell_type": "code",
   "execution_count": 12,
   "metadata": {},
   "outputs": [],
   "source": [
    "meta_paths.drop_duplicates(inplace=True)"
   ]
  },
  {
   "cell_type": "code",
   "execution_count": 13,
   "metadata": {},
   "outputs": [],
   "source": [
    "meta_paths.reset_index(drop=True,inplace=True)"
   ]
  },
  {
   "cell_type": "code",
   "execution_count": 14,
   "metadata": {},
   "outputs": [],
   "source": [
    "Answers_train=readFile('Answers_train')\n",
    "Answers_train=Answers_train[['answerId','questionId']]\n",
    "answer_topic=Answers_train.merge(Questions[['questionId','questionTopics']],on='questionId',how='left')[['answerId','questionTopics']]\n",
    "answer_topic.index=answer_topic.answerId.values"
   ]
  },
  {
   "cell_type": "code",
   "execution_count": 15,
   "metadata": {},
   "outputs": [
    {
     "data": {
      "text/plain": [
       "0"
      ]
     },
     "execution_count": 15,
     "metadata": {},
     "output_type": "execute_result"
    }
   ],
   "source": [
    "del Answers_train,meta_paths_one,meta_paths_two,meta_paths_three\n",
    "gc.collect()"
   ]
  },
  {
   "cell_type": "code",
   "execution_count": 17,
   "metadata": {},
   "outputs": [],
   "source": [
    "def sampleNegtiveMetapathOne(x):\n",
    "    questionId=x['questionId']\n",
    "    uid=x['users'][0]\n",
    "    belongToTopics=Questions.loc[qid2inedx[questionId]]['questionTopics']\n",
    "    negIds=[]\n",
    "    for i in belongToTopics:\n",
    "        negIds+=meta_paths[meta_paths_two['topic']==i].uid.values.tolist()\n",
    "    negIds=set(negIds)\n",
    "    return list(negIds)"
   ]
  },
  {
   "cell_type": "code",
   "execution_count": 18,
   "metadata": {},
   "outputs": [],
   "source": [
    "class NegativeSamplerFunction(object):\n",
    "    def __init__(self,userNodes,k):\n",
    "        self.userNodes=userNodes\n",
    "        self.k=k\n",
    "    def __call__(self, g, eids_dict):\n",
    "        result_dict = {}\n",
    "        etype=('user', 'write', 'answer')\n",
    "        eids=eids_dict[('user', 'write', 'answer')]\n",
    "        src, dst = g.find_edges(eids, etype=etype)\n",
    "        dst = dst.repeat_interleave(self.k)\n",
    "        src=torch.tensor(np.random.choice(self.userNodes,len(dst),replace=True))\n",
    "        result_dict[etype] = (src, dst)\n",
    "        return result_dict"
   ]
  },
  {
   "cell_type": "code",
   "execution_count": 16,
   "metadata": {},
   "outputs": [],
   "source": [
    "class NegativeSamplerFunctionEnchanced(object):\n",
    "    def __init__(self,userNodes,k):\n",
    "        self.k=k\n",
    "        self.userNodes=userNodes\n",
    "    def __call__(self, g, eids_dict):\n",
    "        result_dict = {}\n",
    "        etype=('user', 'write', 'answer')\n",
    "        eids=eids_dict[('user', 'write', 'answer')]\n",
    "        src, dst = g.find_edges(eids, etype=etype)\n",
    "        src=[]\n",
    "        for d in dst.tolist():\n",
    "            _,toipcs=answer_topic.loc[d]\n",
    "            negIds=[]\n",
    "            for i in toipcs:\n",
    "                negIds+=meta_paths[meta_paths['topic']==i].uid.values.tolist()\n",
    "            negIds=set(negIds)\n",
    "            try:\n",
    "                negIds=list(np.random.choice(list(negIds),self.k))\n",
    "            except:\n",
    "                negIds=list(np.random.choice(self.userNodes,self.k,replace=False))\n",
    "            src+=negIds\n",
    "        dst = dst.repeat_interleave(self.k)\n",
    "        result_dict[etype] = (torch.tensor(src), dst)\n",
    "        return result_dict"
   ]
  },
  {
   "cell_type": "code",
   "execution_count": 17,
   "metadata": {},
   "outputs": [],
   "source": [
    "train_eid_dict = {'write': g.edges(etype='write', form='eid')}\n",
    "sampler = dgl.dataloading.MultiLayerFullNeighborSampler(2)\n",
    "sampler = dgl.dataloading.as_edge_prediction_sampler(\n",
    "    sampler, negative_sampler=NegativeSamplerFunctionEnchanced(g.nodes('user'),5),\n",
    "    exclude='reverse_types',\n",
    "    reverse_etypes={'write': 're_write', 're_write': 'write'})\n",
    "dataloader = dgl.dataloading.DataLoader(\n",
    "    g, train_eid_dict, sampler,\n",
    "    batch_size=256,\n",
    "    shuffle=True,\n",
    "    drop_last=False,\n",
    "    num_workers=32)"
   ]
  },
  {
   "cell_type": "code",
   "execution_count": 18,
   "metadata": {},
   "outputs": [],
   "source": [
    "torch.cuda.empty_cache()"
   ]
  },
  {
   "cell_type": "code",
   "execution_count": 19,
   "metadata": {},
   "outputs": [],
   "source": [
    "device='cuda:1'"
   ]
  },
  {
   "cell_type": "code",
   "execution_count": 20,
   "metadata": {},
   "outputs": [],
   "source": [
    "linkPredictionModel = Model(embeddingDict,128, 128, 128, 2, g.etypes)\n",
    "linkPredictionModel = linkPredictionModel.to(device)"
   ]
  },
  {
   "cell_type": "code",
   "execution_count": 21,
   "metadata": {},
   "outputs": [
    {
     "name": "stderr",
     "output_type": "stream",
     "text": [
      "100%|██████████| 1723/1723 [26:53<00:00,  1.07it/s] \n"
     ]
    }
   ],
   "source": [
    "opt = torch.optim.Adam(linkPredictionModel.parameters())\n",
    "#opt=SparseAdam(linkPredictionModel.parameters(), lr=0.025)\n",
    "import tqdm\n",
    "i=0\n",
    "for input_nodes, positive_graph, negative_graph, blocks in tqdm.tqdm(dataloader):\n",
    "    blocks = [b.to(device) for b in blocks]\n",
    "    input_nodes={key:input_nodes[key].to(device) for key in input_nodes.keys()}\n",
    "    positive_graph = positive_graph.to(device)\n",
    "    negative_graph = negative_graph.to(device)\n",
    "    pos_score, neg_score = linkPredictionModel(positive_graph, negative_graph, blocks, input_nodes)\n",
    "    loss = compute_loss(pos_score[('user','write','answer')],neg_score[('user','write','answer')])\n",
    "    opt.zero_grad()\n",
    "    loss.backward()\n",
    "    opt.step()\n",
    "    i+=1\n",
    "    if i%50==0:\n",
    "        gc.collect()\n",
    "        torch.cuda.empty_cache()"
   ]
  },
  {
   "cell_type": "code",
   "execution_count": 22,
   "metadata": {},
   "outputs": [],
   "source": [
    "torch.save(linkPredictionModel, './navie_link_prediction/linkPredictionModel_full_exp_zhihu_embedding128.pkl')"
   ]
  },
  {
   "cell_type": "code",
   "execution_count": 23,
   "metadata": {},
   "outputs": [],
   "source": [
    "def sampleNegtiveMetapaths(x):\n",
    "    questionId=x['questionId']\n",
    "    uid=x['users'][0]\n",
    "    belongToTopics=Questions.loc[qid2inedx[questionId]]['questionTopics']\n",
    "    negIds=[]\n",
    "    for i in belongToTopics:\n",
    "        negIds+=meta_paths[meta_paths['topic']==i].uid.values.tolist()\n",
    "    negIds=set(negIds)\n",
    "    if len(negIds)<1:\n",
    "        negIds=list(g.nodes('user'))\n",
    "    return list(negIds)"
   ]
  },
  {
   "cell_type": "code",
   "execution_count": 35,
   "metadata": {},
   "outputs": [],
   "source": [
    "Answers_dev=readFile('Answers_dev')\n",
    "Answers_test=readFile('Answers_test')"
   ]
  },
  {
   "cell_type": "code",
   "execution_count": 36,
   "metadata": {},
   "outputs": [],
   "source": [
    "Answers_dev=Answers_dev.head(100)"
   ]
  },
  {
   "cell_type": "code",
   "execution_count": 37,
   "metadata": {},
   "outputs": [],
   "source": [
    "userIds,answerIds=[],[]\n",
    "for u,a in zip(Answers_dev.users.values,Answers_dev.answerId.values):\n",
    "    userIds.append(u[0])\n",
    "    answerIds.append(a)"
   ]
  },
  {
   "cell_type": "code",
   "execution_count": 38,
   "metadata": {},
   "outputs": [],
   "source": [
    "Answers_dev['sampleNegtiveMetapathOne']=Answers_dev.apply(sampleNegtiveMetapaths,axis=1)"
   ]
  },
  {
   "cell_type": "code",
   "execution_count": 30,
   "metadata": {},
   "outputs": [
    {
     "data": {
      "image/png": "[encoded data removed]",
      "text/plain": [
       "<Figure size 640x480 with 1 Axes>"
      ]
     },
     "metadata": {},
     "output_type": "display_data"
    }
   ],
   "source": [
    "import matplotlib.pyplot as plt\n",
    "%matplotlib inline\n",
    "plt.hist(Answers_dev.sampleNegtiveMetapathOne.apply(len),100)\n",
    "plt.show()"
   ]
  },
  {
   "cell_type": "code",
   "execution_count": 41,
   "metadata": {},
   "outputs": [],
   "source": [
    "numWriteEdges=g.num_edges('write')"
   ]
  },
  {
   "cell_type": "code",
   "execution_count": 42,
   "metadata": {},
   "outputs": [],
   "source": [
    "g = dgl.add_edges(g,torch.tensor(userIds),torch.tensor(answerIds),etype='write')"
   ]
  },
  {
   "cell_type": "code",
   "execution_count": 30,
   "metadata": {},
   "outputs": [],
   "source": [
    "class choosedUserSampler(object):\n",
    "    def __init__(self,userNodes,answerNodes):\n",
    "        self.userNodes=userNodes\n",
    "        self.answerNodes=answerNodes\n",
    "    def __call__(self, g, eids_dict):\n",
    "        result_dict = {}\n",
    "        etype=('user', 'write', 'answer')\n",
    "        eids=eids_dict[('user', 'write', 'answer')]\n",
    "        src = torch.tensor(self.userNodes[eids-numWriteEdges]).view(-1)\n",
    "        dst = self.answerNodes[eids-numWriteEdges].repeat_interleave(len(src))\n",
    "        result_dict[etype] = (src, dst)\n",
    "        return result_dict"
   ]
  },
  {
   "cell_type": "code",
   "execution_count": 43,
   "metadata": {},
   "outputs": [
    {
     "data": {
      "text/plain": [
       "427"
      ]
     },
     "execution_count": 43,
     "metadata": {},
     "output_type": "execute_result"
    }
   ],
   "source": [
    "import gc\n",
    "gc.collect()"
   ]
  },
  {
   "cell_type": "code",
   "execution_count": 31,
   "metadata": {},
   "outputs": [],
   "source": [
    "def testModelChoosedUser(G,Edges,Model,userIds,AnsweIds):\n",
    "    sampler = dgl.dataloading.MultiLayerFullNeighborSampler(2)\n",
    "    sampler = dgl.dataloading.as_edge_prediction_sampler(\n",
    "        sampler, negative_sampler=choosedUserSampler(userIds,torch.tensor(AnsweIds)),\n",
    "        exclude='reverse_types',\n",
    "        reverse_etypes={'write': 're_write', 're_write': 'write'})\n",
    "    dataloader = dgl.dataloading.DataLoader(\n",
    "        G, Edges, sampler,\n",
    "        batch_size=1,\n",
    "        shuffle=False,\n",
    "        drop_last=False,\n",
    "        num_workers=1)\n",
    "    posS,negS=[],[]\n",
    "    with torch.no_grad():\n",
    "        for input_nodes, positive_graph, negative_graph, blocks in tqdm.tqdm(dataloader):\n",
    "            blocks = [b.to(device) for b in blocks]\n",
    "            input_nodes={key:input_nodes[key].to(device) for key in input_nodes.keys()}\n",
    "            positive_graph = positive_graph.to(device)\n",
    "            negative_graph = negative_graph.to(device)\n",
    "            pos_score, neg_score = linkPredictionModel(positive_graph, negative_graph, blocks, input_nodes)\n",
    "            posS.append(pos_score[('user','write','answer')].cpu().detach())\n",
    "            negS.append(neg_score[('user','write','answer')].cpu().detach())\n",
    "    return posS,negS"
   ]
  },
  {
   "cell_type": "code",
   "execution_count": 44,
   "metadata": {},
   "outputs": [],
   "source": [
    "dev_eid_dict = {'write': g.edges(etype='write', form='eid')[-len(Answers_dev):]}"
   ]
  },
  {
   "cell_type": "code",
   "execution_count": 32,
   "metadata": {},
   "outputs": [],
   "source": [
    "linkPredictionModel=torch.load('./navie_link_prediction/linkPredictionModel_full_exp_zhihu_embedding128_train_norecall.pkl')\n",
    "linkPredictionModel = linkPredictionModel.to(device)"
   ]
  },
  {
   "cell_type": "code",
   "execution_count": 45,
   "metadata": {},
   "outputs": [
    {
     "name": "stderr",
     "output_type": "stream",
     "text": [
      "100%|██████████| 100/100 [01:43<00:00,  1.03s/it]\n"
     ]
    }
   ],
   "source": [
    "Pos,Neg=testModelChoosedUser(g,dev_eid_dict,linkPredictionModel,list(Answers_dev.sampleNegtiveMetapathOne.values),Answers_dev.answerId.values)"
   ]
  },
  {
   "cell_type": "code",
   "execution_count": 46,
   "metadata": {},
   "outputs": [],
   "source": [
    "labels=Answers_dev.users.apply(lambda x:x[0])"
   ]
  },
  {
   "cell_type": "code",
   "execution_count": 47,
   "metadata": {},
   "outputs": [],
   "source": [
    "def accEltaK(preds,recalledUsers,labels,k):\n",
    "    s=0\n",
    "    for pred,users,label in zip(preds,recalledUsers,labels):\n",
    "        pred=np.array(pred).reshape(-1)\n",
    "        users=np.array(users)\n",
    "        K=min(k,len(pred))\n",
    "        indexs=np.argpartition(pred,-K)[-K:]\n",
    "        if label in users[indexs]:\n",
    "            s+=1\n",
    "    return s/len(Neg)*100"
   ]
  },
  {
   "cell_type": "code",
   "execution_count": 48,
   "metadata": {},
   "outputs": [
    {
     "data": {
      "text/plain": [
       "54.0"
      ]
     },
     "execution_count": 48,
     "metadata": {},
     "output_type": "execute_result"
    }
   ],
   "source": [
    "accEltaK(Neg,list(Answers_dev.sampleNegtiveMetapathOne.values),labels,100)"
   ]
  },
  {
   "cell_type": "code",
   "execution_count": 49,
   "metadata": {},
   "outputs": [
    {
     "data": {
      "text/plain": [
       "32.0"
      ]
     },
     "execution_count": 49,
     "metadata": {},
     "output_type": "execute_result"
    }
   ],
   "source": [
    "accEltaK(Neg,list(Answers_dev.sampleNegtiveMetapathOne.values),labels,10)"
   ]
  },
  {
   "cell_type": "code",
   "execution_count": 50,
   "metadata": {},
   "outputs": [
    {
     "data": {
      "text/plain": [
       "28.999999999999996"
      ]
     },
     "execution_count": 50,
     "metadata": {},
     "output_type": "execute_result"
    }
   ],
   "source": [
    "accEltaK(Neg,list(Answers_dev.sampleNegtiveMetapathOne.values),labels,5)"
   ]
  },
  {
   "cell_type": "code",
   "execution_count": 51,
   "metadata": {},
   "outputs": [
    {
     "data": {
      "text/plain": [
       "16.0"
      ]
     },
     "execution_count": 51,
     "metadata": {},
     "output_type": "execute_result"
    }
   ],
   "source": [
    "accEltaK(Neg,list(Answers_dev.sampleNegtiveMetapathOne.values),labels,1)"
   ]
  },
  {
   "cell_type": "code",
   "execution_count": 52,
   "metadata": {},
   "outputs": [],
   "source": [
    "with open(f\"Neg.pkl\",'wb') as file:\n",
    "    pickle.dump(Neg,file)"
   ]
  },
  {
   "cell_type": "code",
   "execution_count": 53,
   "metadata": {},
   "outputs": [],
   "source": [
    "ans=list(Answers_dev.sampleNegtiveMetapathOne.values)"
   ]
  },
  {
   "cell_type": "code",
   "execution_count": 54,
   "metadata": {},
   "outputs": [],
   "source": [
    "with open(f\"sampleNegtiveMetapath.pkl\",'wb') as file:\n",
    "    pickle.dump(ans,file)"
   ]
  },
  {
   "cell_type": "code",
   "execution_count": 55,
   "metadata": {},
   "outputs": [],
   "source": [
    "with open(f\"labels.pkl\",'wb') as file:\n",
    "    pickle.dump(labels,file)"
   ]
  }
 ],
 "metadata": {
  "kernelspec": {
   "display_name": "dgl",
   "language": "python",
   "name": "python3"
  },
  "language_info": {
   "codemirror_mode": {
    "name": "ipython",
    "version": 3
   },
   "file_extension": ".py",
   "mimetype": "text/x-python",
   "name": "python",
   "nbconvert_exporter": "python",
   "pygments_lexer": "ipython3",
   "version": "3.8.16"
  },
  "orig_nbformat": 4,
  "vscode": {
   "interpreter": {
    "hash": "e15634d14d645e6fc281abbb7267943a70bbc4eb642bc80832da8cc6a2bfe769"
   }
  }
 },
 "nbformat": 4,
 "nbformat_minor": 2
}
