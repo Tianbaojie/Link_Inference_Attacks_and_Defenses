{
 "cells": [
  {
   "cell_type": "code",
   "execution_count": 12,
   "metadata": {},
   "outputs": [],
   "source": [
    "import pickle\n",
    "from utils.build_graph import build_graph_dgl,build_graph_pyg\n",
    "import torch\n",
    "def readFile(filePath):\n",
    "    with open(f\"./dataset/{dataset}/{filePath}.pkl\", 'rb') as file:\n",
    "        return pickle.loads(file.read())"
   ]
  },
  {
   "cell_type": "code",
   "execution_count": 13,
   "metadata": {},
   "outputs": [],
   "source": [
    "dataset='quora'\n",
    "Answers_train=readFile('Answers_train')\n",
    "Answers_dev=readFile('Answers_dev')\n",
    "Answers_test=readFile('Answers_test')\n",
    "Questions=readFile('Questions')\n",
    "Users=readFile('Users')"
   ]
  },
  {
   "cell_type": "code",
   "execution_count": 14,
   "metadata": {},
   "outputs": [],
   "source": [
    "data,data_train_neg,data_dev_pos,data_dev_neg,data_test_pos,data_test_neg=build_graph_pyg(Users,Questions,Answers_train,Answers_dev,Answers_test)"
   ]
  },
  {
   "cell_type": "code",
   "execution_count": 15,
   "metadata": {},
   "outputs": [
    {
     "data": {
      "text/plain": [
       "Data(edge_index=[2, 4762846], node_id=[556920], node_type=[556920], edge_type=[4762846])"
      ]
     },
     "execution_count": 15,
     "metadata": {},
     "output_type": "execute_result"
    }
   ],
   "source": [
    "data.to_homogeneous()"
   ]
  },
  {
   "cell_type": "code",
   "execution_count": 16,
   "metadata": {},
   "outputs": [],
   "source": [
    "homogeneous_data=data.to_homogeneous()\n",
    "homogeneous_data.train_pos_edge_index=homogeneous_data.edge_index[:,homogeneous_data.edge_type==0]\n",
    "homogeneous_data.edge_index=torch.concat([homogeneous_data.edge_index,data_dev_pos.to_homogeneous().edge_index,data_test_pos.to_homogeneous().edge_index],axis=1)\n",
    "#homogeneous_data.edge_type=torch.concat([homogeneous_data.edge_type,data_dev_pos.to_homogeneous().edge_type,data_test_pos.to_homogeneous().edge_type])\n",
    "homogeneous_data.val_pos_edge_index=data_dev_pos.to_homogeneous().edge_index\n",
    "homogeneous_data.test_pos_edge_index=data_test_pos.to_homogeneous().edge_index\n",
    "homogeneous_data.val_neg_edge_index=data_dev_neg.to_homogeneous().edge_index\n",
    "homogeneous_data.test_neg_edge_index=data_test_neg.to_homogeneous().edge_index\n",
    "homogeneous_data.train_neg_edge_index=data_train_neg.to_homogeneous().edge_index\n",
    "homogeneous_data.x=torch.rand(homogeneous_data.node_id.shape[0],32)\n",
    "homogeneous_data.y=homogeneous_data.node_type"
   ]
  },
  {
   "cell_type": "code",
   "execution_count": 17,
   "metadata": {},
   "outputs": [],
   "source": [
    "def mask_to_index(index, size):\n",
    "    all_idx = np.arange(size)\n",
    "    return all_idx[index]\n",
    "\n",
    "def index_to_mask(index, size):\n",
    "    mask = torch.zeros((size, ), dtype=torch.bool)\n",
    "    mask[index] = 1\n",
    "    return mask\n",
    "def random_coauthor_amazon_splits(data, num_classes, lcc_mask):\n",
    "    \"\"\"https://github.com/mengliu1998/DeeperGNN/blob/master/DeeperGNN/train_eval.py\n",
    "    Set random coauthor/co-purchase splits:\n",
    "    * 20 * num_classes labels for training\n",
    "    * 30 * num_classes labels for validation\n",
    "    rest labels for testing\n",
    "    \"\"\"\n",
    "    indices = []\n",
    "    if lcc_mask is not None:\n",
    "        for i in range(num_classes):\n",
    "            index = (data.y[lcc_mask] == i).nonzero().view(-1)\n",
    "            index = index[torch.randperm(index.size(0))]\n",
    "            indices.append(index)\n",
    "    else:\n",
    "        for i in range(num_classes):\n",
    "            index = (data.y == i).nonzero().view(-1)\n",
    "            index = index[torch.randperm(index.size(0))]\n",
    "            indices.append(index)\n",
    "\n",
    "    train_index = torch.cat([i[:20] for i in indices], dim=0)\n",
    "    val_index = torch.cat([i[20:50] for i in indices], dim=0)\n",
    "\n",
    "    rest_index = torch.cat([i[50:] for i in indices], dim=0)\n",
    "    rest_index = rest_index[torch.randperm(rest_index.size(0))]\n",
    "\n",
    "    data.train_mask = index_to_mask(train_index, size=data.num_nodes)\n",
    "    data.val_mask = index_to_mask(val_index, size=data.num_nodes)\n",
    "    data.test_mask = index_to_mask(rest_index, size=data.num_nodes)"
   ]
  },
  {
   "cell_type": "code",
   "execution_count": 18,
   "metadata": {},
   "outputs": [
    {
     "data": {
      "text/plain": [
       "True"
      ]
     },
     "execution_count": 18,
     "metadata": {},
     "output_type": "execute_result"
    }
   ],
   "source": [
    "from torch_geometric.utils import contains_isolated_nodes, remove_isolated_nodes\n",
    "contains_isolated_nodes(homogeneous_data.edge_index)"
   ]
  },
  {
   "cell_type": "code",
   "execution_count": 19,
   "metadata": {},
   "outputs": [],
   "source": [
    "if contains_isolated_nodes(homogeneous_data.edge_index):\n",
    "    homogeneous_data.edge_index=remove_isolated_nodes(homogeneous_data.edge_index)[0]"
   ]
  },
  {
   "cell_type": "code",
   "execution_count": 20,
   "metadata": {},
   "outputs": [
    {
     "data": {
      "text/plain": [
       "Data(edge_index=[2, 4766846], node_id=[556920], node_type=[556920], edge_type=[4762846], train_pos_edge_index=[2, 202868], val_pos_edge_index=[2, 2000], test_pos_edge_index=[2, 2000], val_neg_edge_index=[2, 8000], test_neg_edge_index=[2, 8000], train_neg_edge_index=[2, 1622944], x=[556920, 32], y=[556920])"
      ]
     },
     "execution_count": 20,
     "metadata": {},
     "output_type": "execute_result"
    }
   ],
   "source": [
    "homogeneous_data"
   ]
  },
  {
   "cell_type": "code",
   "execution_count": 21,
   "metadata": {},
   "outputs": [],
   "source": [
    "random_coauthor_amazon_splits(homogeneous_data,homogeneous_data.y.max()+1,None)"
   ]
  },
  {
   "cell_type": "code",
   "execution_count": 22,
   "metadata": {},
   "outputs": [],
   "source": [
    "torch.save(homogeneous_data, f\"./dataset/{dataset}/data.pt\")"
   ]
  }
 ],
 "metadata": {
  "kernelspec": {
   "display_name": "dgl",
   "language": "python",
   "name": "python3"
  },
  "language_info": {
   "codemirror_mode": {
    "name": "ipython",
    "version": 3
   },
   "file_extension": ".py",
   "mimetype": "text/x-python",
   "name": "python",
   "nbconvert_exporter": "python",
   "pygments_lexer": "ipython3",
   "version": "3.8.16"
  },
  "orig_nbformat": 4
 },
 "nbformat": 4,
 "nbformat_minor": 2
}
